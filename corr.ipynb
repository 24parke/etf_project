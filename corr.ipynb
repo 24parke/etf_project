{
 "cells": [
  {
   "cell_type": "code",
   "execution_count": 1,
   "id": "75c48241",
   "metadata": {},
   "outputs": [],
   "source": [
    "import yfinance as yf\n",
    "import pandas as pd\n",
    "import matplotlib as plt\n",
    "import matplotlib.pyplot as plt\n",
    "import numpy as np\n",
    "import random"
   ]
  },
  {
   "cell_type": "code",
   "execution_count": 4,
   "id": "f8635dfc",
   "metadata": {},
   "outputs": [
    {
     "name": "stderr",
     "output_type": "stream",
     "text": [
      "/var/folders/l9/9g52f8pd74xdlydy3kyw4rhc0000gn/T/ipykernel_48886/1182667175.py:2: FutureWarning: YF.download() has changed argument auto_adjust default to True\n",
      "  data = yf.download(tickers, start='2007-04-20', end='2025-08-01')['Close']\n",
      "[*********************100%***********************]  2 of 2 completed"
     ]
    },
    {
     "name": "stdout",
     "output_type": "stream",
     "text": [
      "Correlation matrix:\n",
      " Ticker       NEM       UGL\n",
      "Ticker                    \n",
      "NEM     1.000000  0.611647\n",
      "UGL     0.611647  1.000000\n",
      "\n",
      "Correlation between UGL and NEM: 0.6116\n"
     ]
    },
    {
     "name": "stderr",
     "output_type": "stream",
     "text": [
      "\n"
     ]
    }
   ],
   "source": [
    "tickers = ['UGL', 'NEM']\n",
    "data = yf.download(tickers, start='2007-04-20', end='2025-08-01')['Close']\n",
    "\n",
    "# Drop rows with missing values (holidays, IPO, etc.)\n",
    "data = data.dropna()\n",
    "\n",
    "# Compute correlation (Pearson by default)\n",
    "correlation_matrix = data.corr()\n",
    "\n",
    "# Access specific correlation between UGL and NEM\n",
    "correlation = correlation_matrix.loc['UGL', 'NEM']\n",
    "\n",
    "# Print results\n",
    "print(\"Correlation matrix:\\n\", correlation_matrix)\n",
    "print(f\"\\nCorrelation between UGL and NEM: {correlation:.4f}\")"
   ]
  }
 ],
 "metadata": {
  "kernelspec": {
   "display_name": "Python 3",
   "language": "python",
   "name": "python3"
  },
  "language_info": {
   "codemirror_mode": {
    "name": "ipython",
    "version": 3
   },
   "file_extension": ".py",
   "mimetype": "text/x-python",
   "name": "python",
   "nbconvert_exporter": "python",
   "pygments_lexer": "ipython3",
   "version": "3.13.2"
  }
 },
 "nbformat": 4,
 "nbformat_minor": 5
}
