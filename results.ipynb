{
 "cells": [
  {
   "cell_type": "code",
   "execution_count": 22,
   "id": "133cd993",
   "metadata": {},
   "outputs": [],
   "source": [
    "import pandas as pd\n",
    "import scipy.stats as stats\n",
    "import numpy as np\n"
   ]
  },
  {
   "cell_type": "code",
   "execution_count": 45,
   "id": "3b557c05",
   "metadata": {},
   "outputs": [
    {
     "name": "stdout",
     "output_type": "stream",
     "text": [
      "     Unnamed: 0 underlying triple  years       start          gap          P/L\n",
      "0             0        SPY   SPXL      7  2010-02-06  -163.748923  -386.011789\n",
      "1             1        SPY   SPXL     13  2010-09-22  -223.854815   -47.481244\n",
      "2             2        SPY   SPXL     11  2012-04-24  -121.098383   -97.976340\n",
      "3             3        SPY   SPXL     13  2008-12-14  -809.200269  -354.615183\n",
      "4             4        SPY   SPXL     10  2009-11-05  -111.071169  -161.770474\n",
      "..          ...        ...    ...    ...         ...          ...          ...\n",
      "240         240        XLF    FAS     13  2009-01-30 -1190.932651 -1220.978521\n",
      "241         241        XLF    FAS      8  2010-10-19  -195.266090  -191.906215\n",
      "242         242        XLF    FAS     14  2009-12-08  -405.731669  -699.014061\n",
      "243         243        XLF    FAS     13  2011-08-22 -1074.862617  -430.023081\n",
      "244         244        XLF    FAS     12  2011-10-07  -637.043974  -784.157938\n",
      "\n",
      "[245 rows x 7 columns]\n"
     ]
    }
   ],
   "source": [
    "df = pd.read_csv(\"0%.csv\")\n",
    "print(df)"
   ]
  },
  {
   "cell_type": "code",
   "execution_count": 43,
   "id": "59753ea4",
   "metadata": {},
   "outputs": [
    {
     "name": "stdout",
     "output_type": "stream",
     "text": [
      "       Unnamed: 0   years      gap      P/L\n",
      "count      245.00  245.00   245.00   245.00\n",
      "mean       122.00   10.09    94.37   338.39\n",
      "std         70.87    2.90   781.64   926.54\n",
      "min          0.00    6.00 -1726.21 -1496.42\n",
      "25%         61.00    7.00  -167.78  -199.22\n",
      "50%        122.00   10.00    -9.13   161.14\n",
      "75%        183.00   13.00    40.97   717.99\n",
      "max        244.00   15.00  4004.65  4617.63\n"
     ]
    }
   ],
   "source": [
    "print(df.describe().round(2))"
   ]
  },
  {
   "cell_type": "code",
   "execution_count": 46,
   "id": "3d4abb4a",
   "metadata": {},
   "outputs": [
    {
     "name": "stdout",
     "output_type": "stream",
     "text": [
      "0.8196512689797264\n",
      "0.14694111288295783\n",
      "0.16709082582927737\n",
      "115\n",
      "153\n",
      "114\n"
     ]
    }
   ],
   "source": [
    "print(df[\"gap\"].corr(df[\"P/L\"]))\n",
    "print(df[\"years\"].corr(df[\"P/L\"]))\n",
    "print(df[\"years\"].corr(df[\"gap\"]))\n",
    "print(sum(df[\"gap\"] > 0))\n",
    "print(sum(df[\"P/L\"] > 0))\n",
    "s = 0\n",
    "for i in range(209):\n",
    "    if (df[\"gap\"][i]> 0 and df[\"P/L\"][i]>0):\n",
    "        s+=1\n",
    "    \n",
    "print(s)\n",
    "\n",
    "\n",
    "# sample_mean = np.mean(df)\n",
    "# sample_std = np.std(df, ddof=1)  # ddof=1 for sample standard deviation\n",
    "# sample_size = len(df)\n",
    "# sem = sample_std / np.sqrt(sample_size)\n",
    "# confidence_interval = stats.t.interval(.95, df=209, loc=sample_mean, scale=sem)\n",
    "\n",
    "\n"
   ]
  },
  {
   "cell_type": "code",
   "execution_count": 44,
   "id": "5d0694e7",
   "metadata": {},
   "outputs": [
    {
     "name": "stdout",
     "output_type": "stream",
     "text": [
      "                 lower       upper\n",
      "Unnamed: 0  113.081650  130.918350\n",
      "years         9.720493   10.450936\n",
      "gap          -3.992403  192.732309\n",
      "P/L         221.791212  454.985642\n"
     ]
    }
   ],
   "source": [
    "def ci_numeric_only(df, confidence=0.95):\n",
    "    # pick only columns whose dtype is already numeric\n",
    "    numeric_df = df.select_dtypes(include=[np.number])\n",
    "    ci = {}\n",
    "    for col in numeric_df:\n",
    "        vals = numeric_df[col].dropna()\n",
    "        n = vals.size\n",
    "        if n < 2:\n",
    "            ci[col] = (np.nan, np.nan)\n",
    "            continue\n",
    "        m   = vals.mean()\n",
    "        sem = stats.sem(vals)  # standard error of the mean\n",
    "        h   = sem * stats.t.ppf((1 + confidence)/2., n - 1)\n",
    "        ci[col] = (m - h, m + h)\n",
    "    # return as DataFrame with rows = columns of original\n",
    "    return pd.DataFrame.from_dict(ci, orient='index', columns=['lower','upper'])\n",
    "\n",
    "# usage:\n",
    "ci_df = ci_numeric_only(df)\n",
    "print(ci_df)"
   ]
  }
 ],
 "metadata": {
  "kernelspec": {
   "display_name": "Python 3",
   "language": "python",
   "name": "python3"
  },
  "language_info": {
   "codemirror_mode": {
    "name": "ipython",
    "version": 3
   },
   "file_extension": ".py",
   "mimetype": "text/x-python",
   "name": "python",
   "nbconvert_exporter": "python",
   "pygments_lexer": "ipython3",
   "version": "3.13.2"
  }
 },
 "nbformat": 4,
 "nbformat_minor": 5
}
