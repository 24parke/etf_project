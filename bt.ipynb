{
 "cells": [
  {
   "cell_type": "code",
   "execution_count": 4,
   "id": "3cd9a3ca",
   "metadata": {},
   "outputs": [],
   "source": [
    "import yfinance as yf\n",
    "import pandas as pd\n",
    "import numpy as np\n",
    "import matplotlib.pyplot as plt\n",
    "import backtrader as bt\n",
    "import backtrader.feeds as btfeed\n",
    "from backtrader.feeds import GenericCSVData\n",
    "import datetime  # For datetime objects\n",
    "import os.path  # To manage paths\n",
    "import sys  # To find out the script name (in argv[0])\n"
   ]
  },
  {
   "cell_type": "code",
   "execution_count": 2,
   "id": "a8a34a1e",
   "metadata": {},
   "outputs": [
    {
     "name": "stderr",
     "output_type": "stream",
     "text": [
      "[*********************100%***********************]  2 of 2 completed\n"
     ]
    },
    {
     "data": {
      "text/plain": [
       "<backtrader.feeds.pandafeed.PandasData at 0x12e0f7e00>"
      ]
     },
     "execution_count": 2,
     "metadata": {},
     "output_type": "execute_result"
    }
   ],
   "source": [
    "cerebro = bt.Cerebro()\n",
    "tickers = [\"SPY\", \"SPXL\"]\n",
    "df = yf.download(tickers, period=\"5y\", group_by=\"ticker\", auto_adjust=False)\n",
    "feed = bt.feeds.PandasData(dataname=df)\n",
    "cerebro.adddata(feed)\n"
   ]
  },
  {
   "cell_type": "code",
   "execution_count": 2,
   "id": "5f799407",
   "metadata": {},
   "outputs": [],
   "source": [
    "class my_csv(GenericCSVData):\n",
    "    lines = ('beta_exposure',)\n",
    "    params = ((\"beta_exposure\", 12),)"
   ]
  },
  {
   "cell_type": "code",
   "execution_count": null,
   "id": "d166d38d",
   "metadata": {},
   "outputs": [],
   "source": [
    "class beta_adjust(bt.Strategy):\n",
    "    def __init__(self):\n",
    "        self.beta_exposure = self.df\n",
    "\n",
    "    def next(self):\n",
    "        if df.beta_exposure > 100:\n",
    "            self.buy(data=)\n"
   ]
  }
 ],
 "metadata": {
  "kernelspec": {
   "display_name": "Python 3",
   "language": "python",
   "name": "python3"
  },
  "language_info": {
   "codemirror_mode": {
    "name": "ipython",
    "version": 3
   },
   "file_extension": ".py",
   "mimetype": "text/x-python",
   "name": "python",
   "nbconvert_exporter": "python",
   "pygments_lexer": "ipython3",
   "version": "3.13.2"
  }
 },
 "nbformat": 4,
 "nbformat_minor": 5
}
